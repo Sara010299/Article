{
  "cells": [
    {
      "cell_type": "markdown",
      "metadata": {
        "id": "ZDjH3PImkmJj"
      },
      "source": [
        "# Purpose 1:\n",
        "can you write a python code that from an analysis of 8 emotions **(happy, sad, angry, embarrassed, distressed, relaxed, guilty and frustrated)** and **a label of No. of self-harm**, in a time series in patients diagnosed with self-harm disorder, **classify the risk of future self-harm**.\n",
        "\n",
        "\n",
        "---\n",
        "\n",
        "\n",
        "To make the classifier use a **gradient boost algorithm with scickit learn\n",
        "library**, the training is done from data available in .csv format, the dataset consists of **2135 records spread over 64 individuals** , **the risk is binary**.\n",
        "\n",
        "---\n",
        "\n",
        "\n",
        "At the end add the sensitivity calculation in the result, it separates 13 of the 64 individuals in the subject column to perform the test on them, it guarantees that the proportionality of self-injury column Nº remains the same in the train and test set.\n",
        "\n",
        "\n"
      ]
    },
    {
      "cell_type": "markdown",
      "metadata": {
        "id": "QPBeD3Jq1wXn"
      },
      "source": [
        "Need a python code which, from the excel file, classifies the data into two categories: a category to test the model and another to train the model. The python code must then use a gradient boost algorithm with the scikit learn library. Then this code will have to train the model. Then it will have to predict the risk of mutilation. At the end of the code we will need a sensitivity calculation"
      ]
    },
    {
      "cell_type": "markdown",
      "metadata": {
        "id": "Sx7MfNshwstG"
      },
      "source": [
        "#Import Libraries"
      ]
    },
    {
      "cell_type": "code",
      "execution_count": null,
      "metadata": {
        "id": "zSa9B3XHpitG"
      },
      "outputs": [],
      "source": [
        "#Import files library from Google Colab to upload files\n",
        "from google.colab import files\n",
        "#Create a Gradient Boosting Classifier\n",
        "from sklearn.ensemble import  :\n",
        "#Import pandas library\n",
        "import pandas as pd\n",
        "#Import numpy library\n",
        "import numpy as np\n",
        "#Import 'train_test_split' from sklearn.model_selection\n",
        "from sklearn.model_selection import train_test_split\n",
        "\n",
        "from sklearn.preprocessing import LabelEncoder, OneHotEncoder"
      ]
    },
    {
      "cell_type": "code",
      "execution_count": null,
      "metadata": {
        "id": "_lJCvXXMhXij"
      },
      "outputs": [],
      "source": [
        "import numpy as np\n",
        "import pandas as pd\n",
        "import sklearn\n",
        "import scipy\n",
        "import matplotlib.pyplot as plt\n",
        "import seaborn as sns\n",
        "from sklearn.metrics import classification_report,accuracy_score\n",
        "from sklearn.ensemble import IsolationForest\n",
        "from sklearn.neighbors import LocalOutlierFactor\n",
        "from sklearn.svm import OneClassSVM\n",
        "from pylab import rcParams\n",
        "rcParams['figure.figsize'] = 14, 8\n",
        "RANDOM_SEED = 42\n",
        "LABELS = [\"Normal\", \"Fraud\"]"
      ]
    },
    {
      "cell_type": "markdown",
      "metadata": {
        "id": "X2_TVq8RrS2X"
      },
      "source": [
        "#Download the Excel file from local directory\n"
      ]
    },
    {
      "cell_type": "code",
      "execution_count": null,
      "metadata": {
        "colab": {
          "base_uri": "https://localhost:8080/",
          "height": 73
        },
        "id": "ZaZqrv8prSFv",
        "outputId": "289b9c68-4d8b-49ac-90a5-d9c077160acc"
      },
      "outputs": [
        {
          "output_type": "display_data",
          "data": {
            "text/plain": [
              "<IPython.core.display.HTML object>"
            ],
            "text/html": [
              "\n",
              "     <input type=\"file\" id=\"files-211fe83c-5ed5-4da9-999b-b9d38fe406ea\" name=\"files[]\" multiple disabled\n",
              "        style=\"border:none\" />\n",
              "     <output id=\"result-211fe83c-5ed5-4da9-999b-b9d38fe406ea\">\n",
              "      Upload widget is only available when the cell has been executed in the\n",
              "      current browser session. Please rerun this cell to enable.\n",
              "      </output>\n",
              "      <script>// Copyright 2017 Google LLC\n",
              "//\n",
              "// Licensed under the Apache License, Version 2.0 (the \"License\");\n",
              "// you may not use this file except in compliance with the License.\n",
              "// You may obtain a copy of the License at\n",
              "//\n",
              "//      http://www.apache.org/licenses/LICENSE-2.0\n",
              "//\n",
              "// Unless required by applicable law or agreed to in writing, software\n",
              "// distributed under the License is distributed on an \"AS IS\" BASIS,\n",
              "// WITHOUT WARRANTIES OR CONDITIONS OF ANY KIND, either express or implied.\n",
              "// See the License for the specific language governing permissions and\n",
              "// limitations under the License.\n",
              "\n",
              "/**\n",
              " * @fileoverview Helpers for google.colab Python module.\n",
              " */\n",
              "(function(scope) {\n",
              "function span(text, styleAttributes = {}) {\n",
              "  const element = document.createElement('span');\n",
              "  element.textContent = text;\n",
              "  for (const key of Object.keys(styleAttributes)) {\n",
              "    element.style[key] = styleAttributes[key];\n",
              "  }\n",
              "  return element;\n",
              "}\n",
              "\n",
              "// Max number of bytes which will be uploaded at a time.\n",
              "const MAX_PAYLOAD_SIZE = 100 * 1024;\n",
              "\n",
              "function _uploadFiles(inputId, outputId) {\n",
              "  const steps = uploadFilesStep(inputId, outputId);\n",
              "  const outputElement = document.getElementById(outputId);\n",
              "  // Cache steps on the outputElement to make it available for the next call\n",
              "  // to uploadFilesContinue from Python.\n",
              "  outputElement.steps = steps;\n",
              "\n",
              "  return _uploadFilesContinue(outputId);\n",
              "}\n",
              "\n",
              "// This is roughly an async generator (not supported in the browser yet),\n",
              "// where there are multiple asynchronous steps and the Python side is going\n",
              "// to poll for completion of each step.\n",
              "// This uses a Promise to block the python side on completion of each step,\n",
              "// then passes the result of the previous step as the input to the next step.\n",
              "function _uploadFilesContinue(outputId) {\n",
              "  const outputElement = document.getElementById(outputId);\n",
              "  const steps = outputElement.steps;\n",
              "\n",
              "  const next = steps.next(outputElement.lastPromiseValue);\n",
              "  return Promise.resolve(next.value.promise).then((value) => {\n",
              "    // Cache the last promise value to make it available to the next\n",
              "    // step of the generator.\n",
              "    outputElement.lastPromiseValue = value;\n",
              "    return next.value.response;\n",
              "  });\n",
              "}\n",
              "\n",
              "/**\n",
              " * Generator function which is called between each async step of the upload\n",
              " * process.\n",
              " * @param {string} inputId Element ID of the input file picker element.\n",
              " * @param {string} outputId Element ID of the output display.\n",
              " * @return {!Iterable<!Object>} Iterable of next steps.\n",
              " */\n",
              "function* uploadFilesStep(inputId, outputId) {\n",
              "  const inputElement = document.getElementById(inputId);\n",
              "  inputElement.disabled = false;\n",
              "\n",
              "  const outputElement = document.getElementById(outputId);\n",
              "  outputElement.innerHTML = '';\n",
              "\n",
              "  const pickedPromise = new Promise((resolve) => {\n",
              "    inputElement.addEventListener('change', (e) => {\n",
              "      resolve(e.target.files);\n",
              "    });\n",
              "  });\n",
              "\n",
              "  const cancel = document.createElement('button');\n",
              "  inputElement.parentElement.appendChild(cancel);\n",
              "  cancel.textContent = 'Cancel upload';\n",
              "  const cancelPromise = new Promise((resolve) => {\n",
              "    cancel.onclick = () => {\n",
              "      resolve(null);\n",
              "    };\n",
              "  });\n",
              "\n",
              "  // Wait for the user to pick the files.\n",
              "  const files = yield {\n",
              "    promise: Promise.race([pickedPromise, cancelPromise]),\n",
              "    response: {\n",
              "      action: 'starting',\n",
              "    }\n",
              "  };\n",
              "\n",
              "  cancel.remove();\n",
              "\n",
              "  // Disable the input element since further picks are not allowed.\n",
              "  inputElement.disabled = true;\n",
              "\n",
              "  if (!files) {\n",
              "    return {\n",
              "      response: {\n",
              "        action: 'complete',\n",
              "      }\n",
              "    };\n",
              "  }\n",
              "\n",
              "  for (const file of files) {\n",
              "    const li = document.createElement('li');\n",
              "    li.append(span(file.name, {fontWeight: 'bold'}));\n",
              "    li.append(span(\n",
              "        `(${file.type || 'n/a'}) - ${file.size} bytes, ` +\n",
              "        `last modified: ${\n",
              "            file.lastModifiedDate ? file.lastModifiedDate.toLocaleDateString() :\n",
              "                                    'n/a'} - `));\n",
              "    const percent = span('0% done');\n",
              "    li.appendChild(percent);\n",
              "\n",
              "    outputElement.appendChild(li);\n",
              "\n",
              "    const fileDataPromise = new Promise((resolve) => {\n",
              "      const reader = new FileReader();\n",
              "      reader.onload = (e) => {\n",
              "        resolve(e.target.result);\n",
              "      };\n",
              "      reader.readAsArrayBuffer(file);\n",
              "    });\n",
              "    // Wait for the data to be ready.\n",
              "    let fileData = yield {\n",
              "      promise: fileDataPromise,\n",
              "      response: {\n",
              "        action: 'continue',\n",
              "      }\n",
              "    };\n",
              "\n",
              "    // Use a chunked sending to avoid message size limits. See b/62115660.\n",
              "    let position = 0;\n",
              "    do {\n",
              "      const length = Math.min(fileData.byteLength - position, MAX_PAYLOAD_SIZE);\n",
              "      const chunk = new Uint8Array(fileData, position, length);\n",
              "      position += length;\n",
              "\n",
              "      const base64 = btoa(String.fromCharCode.apply(null, chunk));\n",
              "      yield {\n",
              "        response: {\n",
              "          action: 'append',\n",
              "          file: file.name,\n",
              "          data: base64,\n",
              "        },\n",
              "      };\n",
              "\n",
              "      let percentDone = fileData.byteLength === 0 ?\n",
              "          100 :\n",
              "          Math.round((position / fileData.byteLength) * 100);\n",
              "      percent.textContent = `${percentDone}% done`;\n",
              "\n",
              "    } while (position < fileData.byteLength);\n",
              "  }\n",
              "\n",
              "  // All done.\n",
              "  yield {\n",
              "    response: {\n",
              "      action: 'complete',\n",
              "    }\n",
              "  };\n",
              "}\n",
              "\n",
              "scope.google = scope.google || {};\n",
              "scope.google.colab = scope.google.colab || {};\n",
              "scope.google.colab._files = {\n",
              "  _uploadFiles,\n",
              "  _uploadFilesContinue,\n",
              "};\n",
              "})(self);\n",
              "</script> "
            ]
          },
          "metadata": {}
        },
        {
          "output_type": "stream",
          "name": "stdout",
          "text": [
            "Saving TEST_originv2.csv to TEST_originv2.csv\n"
          ]
        }
      ],
      "source": [
        "uploaded = files.upload()"
      ]
    },
    {
      "cell_type": "markdown",
      "metadata": {
        "id": "Wl7basyTrvTz"
      },
      "source": [
        "# Reading the CSV file and assigning column names to the data"
      ]
    },
    {
      "cell_type": "code",
      "execution_count": null,
      "metadata": {
        "id": "GvTO2xnrrvcL"
      },
      "outputs": [],
      "source": [
        "df = pd.read_csv('TEST_originv2.csv', delimiter=';' , header=2,encoding='latin-1')"
      ]
    },
    {
      "cell_type": "markdown",
      "source": [
        "Convert the 'feliz' column in the DataFrame into float numeric values"
      ],
      "metadata": {
        "id": "VZtSAUO8GW8x"
      }
    },
    {
      "cell_type": "code",
      "execution_count": null,
      "metadata": {
        "id": "OzF-IRP5G5q2"
      },
      "outputs": [],
      "source": [
        "df['feliz'] = pd.to_numeric(df['feliz'], errors='coerce')\n",
        "df['feliz'] = df['feliz'].astype(float)"
      ]
    },
    {
      "cell_type": "markdown",
      "source": [
        "Display detailed information about the DataFrame"
      ],
      "metadata": {
        "id": "CABwTjsHGe1_"
      }
    },
    {
      "cell_type": "code",
      "execution_count": null,
      "metadata": {
        "colab": {
          "base_uri": "https://localhost:8080/"
        },
        "id": "QH1dqcB4GSn3",
        "outputId": "13da8fac-b365-4b17-c4c3-aa292a8adcb6"
      },
      "outputs": [
        {
          "output_type": "stream",
          "name": "stdout",
          "text": [
            "<class 'pandas.core.frame.DataFrame'>\n",
            "RangeIndex: 2134 entries, 0 to 2133\n",
            "Data columns (total 42 columns):\n",
            " #   Column                             Non-Null Count  Dtype  \n",
            "---  ------                             --------------  -----  \n",
            " 0   sujeto                             2134 non-null   int64  \n",
            " 1   dia                                2134 non-null   int64  \n",
            " 2   tiempo                             2134 non-null   int64  \n",
            " 3   sexo                               2134 non-null   int64  \n",
            " 4   edad                               2134 non-null   int64  \n",
            " 5   horario                            2131 non-null   float64\n",
            " 6   feliz                              902 non-null    float64\n",
            " 7   enfadado                           165 non-null    float64\n",
            " 8   triste                             284 non-null    float64\n",
            " 9   vergonzoso                         50 non-null     float64\n",
            " 10  angustiado                         407 non-null    float64\n",
            " 11  relajado                           802 non-null    float64\n",
            " 12  culpable                           110 non-null    float64\n",
            " 13  frustrado                          202 non-null    float64\n",
            " 14  otra                               394 non-null    float64\n",
            " 15  ¿Qué estas haciendo?\n",
            "(codificada)  1864 non-null   object \n",
            " 16  nº de atracones                    196 non-null    float64\n",
            " 17  Nº pensamientos de autolesiones    249 non-null    float64\n",
            " 18  Nº veces toma \n",
            "drogas              102 non-null    float64\n",
            " 19  nº veces\n",
            "sexo                      148 non-null    float64\n",
            " 20  Nº discusiones con otros           193 non-null    float64\n",
            " 21  Unnamed: 21                        83 non-null     float64\n",
            " 22  Unnamed: 22                        81 non-null     object \n",
            " 23  enfadado.1                         25 non-null     float64\n",
            " 24  triste.1                           27 non-null     float64\n",
            " 25  vergonzoso.1                       1 non-null      float64\n",
            " 26  angustiado.1                       22 non-null     float64\n",
            " 27  culpable.1                         13 non-null     float64\n",
            " 28  frustrado.1                        22 non-null     float64\n",
            " 29  vacio                              16 non-null     float64\n",
            " 30  rechazado                          5 non-null      float64\n",
            " 31  otro                               15 non-null     object \n",
            " 32  Unnamed: 32                        79 non-null     object \n",
            " 33  enfadado.2                         19 non-null     float64\n",
            " 34  triste.2                           20 non-null     float64\n",
            " 35  vergonzoso.2                       2 non-null      float64\n",
            " 36  angustiado.2                       16 non-null     float64\n",
            " 37  culpable.2                         16 non-null     float64\n",
            " 38  frustrado.2                        12 non-null     float64\n",
            " 39  vacio.1                            18 non-null     float64\n",
            " 40  rechazado.1                        4 non-null      float64\n",
            " 41  otro.1                             22 non-null     object \n",
            "dtypes: float64(32), int64(5), object(5)\n",
            "memory usage: 700.3+ KB\n"
          ]
        }
      ],
      "source": [
        "df.info()"
      ]
    },
    {
      "cell_type": "markdown",
      "source": [
        "\n",
        "Display the first few lines of the DataFrame"
      ],
      "metadata": {
        "id": "zPpMpCv6GnWl"
      }
    },
    {
      "cell_type": "code",
      "execution_count": null,
      "metadata": {
        "colab": {
          "base_uri": "https://localhost:8080/",
          "height": 253
        },
        "id": "HUvr8u3OasWo",
        "outputId": "b4e76cc5-c415-4624-d007-160ebb122c5a"
      },
      "outputs": [
        {
          "output_type": "execute_result",
          "data": {
            "text/plain": [
              "   sujeto  dia  tiempo  sexo  edad  horario  feliz  enfadado  triste  \\\n",
              "0       1    1       1     1    25      1.0   75.0       NaN     NaN   \n",
              "1       1    1       2     1    25      3.0  100.0       NaN     NaN   \n",
              "2       1    2       1     1    25      2.0   80.0       NaN     NaN   \n",
              "3       1    3       1     1    25      1.0    NaN      50.0     NaN   \n",
              "4       1    3       2     1    25      4.0   62.0       NaN     NaN   \n",
              "\n",
              "   vergonzoso  ...  Unnamed: 32  enfadado.2  triste.2  vergonzoso.2  \\\n",
              "0         NaN  ...          NaN         NaN       NaN           NaN   \n",
              "1         NaN  ...          NaN         NaN       NaN           NaN   \n",
              "2         NaN  ...          NaN         NaN       NaN           NaN   \n",
              "3         NaN  ...          NaN         NaN       NaN           NaN   \n",
              "4         NaN  ...          NaN         NaN       NaN           NaN   \n",
              "\n",
              "   angustiado.2 culpable.2  frustrado.2  vacio.1  rechazado.1  otro.1  \n",
              "0           NaN        NaN          NaN      NaN          NaN     NaN  \n",
              "1           NaN        NaN          NaN      NaN          NaN     NaN  \n",
              "2           NaN        NaN          NaN      NaN          NaN     NaN  \n",
              "3           NaN        NaN          NaN      NaN          NaN     NaN  \n",
              "4           NaN        NaN          NaN      NaN          NaN     NaN  \n",
              "\n",
              "[5 rows x 42 columns]"
            ],
            "text/html": [
              "\n",
              "  <div id=\"df-1fa2226f-7f86-432c-ab4d-0fcd5db62da6\" class=\"colab-df-container\">\n",
              "    <div>\n",
              "<style scoped>\n",
              "    .dataframe tbody tr th:only-of-type {\n",
              "        vertical-align: middle;\n",
              "    }\n",
              "\n",
              "    .dataframe tbody tr th {\n",
              "        vertical-align: top;\n",
              "    }\n",
              "\n",
              "    .dataframe thead th {\n",
              "        text-align: right;\n",
              "    }\n",
              "</style>\n",
              "<table border=\"1\" class=\"dataframe\">\n",
              "  <thead>\n",
              "    <tr style=\"text-align: right;\">\n",
              "      <th></th>\n",
              "      <th>sujeto</th>\n",
              "      <th>dia</th>\n",
              "      <th>tiempo</th>\n",
              "      <th>sexo</th>\n",
              "      <th>edad</th>\n",
              "      <th>horario</th>\n",
              "      <th>feliz</th>\n",
              "      <th>enfadado</th>\n",
              "      <th>triste</th>\n",
              "      <th>vergonzoso</th>\n",
              "      <th>...</th>\n",
              "      <th>Unnamed: 32</th>\n",
              "      <th>enfadado.2</th>\n",
              "      <th>triste.2</th>\n",
              "      <th>vergonzoso.2</th>\n",
              "      <th>angustiado.2</th>\n",
              "      <th>culpable.2</th>\n",
              "      <th>frustrado.2</th>\n",
              "      <th>vacio.1</th>\n",
              "      <th>rechazado.1</th>\n",
              "      <th>otro.1</th>\n",
              "    </tr>\n",
              "  </thead>\n",
              "  <tbody>\n",
              "    <tr>\n",
              "      <th>0</th>\n",
              "      <td>1</td>\n",
              "      <td>1</td>\n",
              "      <td>1</td>\n",
              "      <td>1</td>\n",
              "      <td>25</td>\n",
              "      <td>1.0</td>\n",
              "      <td>75.0</td>\n",
              "      <td>NaN</td>\n",
              "      <td>NaN</td>\n",
              "      <td>NaN</td>\n",
              "      <td>...</td>\n",
              "      <td>NaN</td>\n",
              "      <td>NaN</td>\n",
              "      <td>NaN</td>\n",
              "      <td>NaN</td>\n",
              "      <td>NaN</td>\n",
              "      <td>NaN</td>\n",
              "      <td>NaN</td>\n",
              "      <td>NaN</td>\n",
              "      <td>NaN</td>\n",
              "      <td>NaN</td>\n",
              "    </tr>\n",
              "    <tr>\n",
              "      <th>1</th>\n",
              "      <td>1</td>\n",
              "      <td>1</td>\n",
              "      <td>2</td>\n",
              "      <td>1</td>\n",
              "      <td>25</td>\n",
              "      <td>3.0</td>\n",
              "      <td>100.0</td>\n",
              "      <td>NaN</td>\n",
              "      <td>NaN</td>\n",
              "      <td>NaN</td>\n",
              "      <td>...</td>\n",
              "      <td>NaN</td>\n",
              "      <td>NaN</td>\n",
              "      <td>NaN</td>\n",
              "      <td>NaN</td>\n",
              "      <td>NaN</td>\n",
              "      <td>NaN</td>\n",
              "      <td>NaN</td>\n",
              "      <td>NaN</td>\n",
              "      <td>NaN</td>\n",
              "      <td>NaN</td>\n",
              "    </tr>\n",
              "    <tr>\n",
              "      <th>2</th>\n",
              "      <td>1</td>\n",
              "      <td>2</td>\n",
              "      <td>1</td>\n",
              "      <td>1</td>\n",
              "      <td>25</td>\n",
              "      <td>2.0</td>\n",
              "      <td>80.0</td>\n",
              "      <td>NaN</td>\n",
              "      <td>NaN</td>\n",
              "      <td>NaN</td>\n",
              "      <td>...</td>\n",
              "      <td>NaN</td>\n",
              "      <td>NaN</td>\n",
              "      <td>NaN</td>\n",
              "      <td>NaN</td>\n",
              "      <td>NaN</td>\n",
              "      <td>NaN</td>\n",
              "      <td>NaN</td>\n",
              "      <td>NaN</td>\n",
              "      <td>NaN</td>\n",
              "      <td>NaN</td>\n",
              "    </tr>\n",
              "    <tr>\n",
              "      <th>3</th>\n",
              "      <td>1</td>\n",
              "      <td>3</td>\n",
              "      <td>1</td>\n",
              "      <td>1</td>\n",
              "      <td>25</td>\n",
              "      <td>1.0</td>\n",
              "      <td>NaN</td>\n",
              "      <td>50.0</td>\n",
              "      <td>NaN</td>\n",
              "      <td>NaN</td>\n",
              "      <td>...</td>\n",
              "      <td>NaN</td>\n",
              "      <td>NaN</td>\n",
              "      <td>NaN</td>\n",
              "      <td>NaN</td>\n",
              "      <td>NaN</td>\n",
              "      <td>NaN</td>\n",
              "      <td>NaN</td>\n",
              "      <td>NaN</td>\n",
              "      <td>NaN</td>\n",
              "      <td>NaN</td>\n",
              "    </tr>\n",
              "    <tr>\n",
              "      <th>4</th>\n",
              "      <td>1</td>\n",
              "      <td>3</td>\n",
              "      <td>2</td>\n",
              "      <td>1</td>\n",
              "      <td>25</td>\n",
              "      <td>4.0</td>\n",
              "      <td>62.0</td>\n",
              "      <td>NaN</td>\n",
              "      <td>NaN</td>\n",
              "      <td>NaN</td>\n",
              "      <td>...</td>\n",
              "      <td>NaN</td>\n",
              "      <td>NaN</td>\n",
              "      <td>NaN</td>\n",
              "      <td>NaN</td>\n",
              "      <td>NaN</td>\n",
              "      <td>NaN</td>\n",
              "      <td>NaN</td>\n",
              "      <td>NaN</td>\n",
              "      <td>NaN</td>\n",
              "      <td>NaN</td>\n",
              "    </tr>\n",
              "  </tbody>\n",
              "</table>\n",
              "<p>5 rows × 42 columns</p>\n",
              "</div>\n",
              "    <div class=\"colab-df-buttons\">\n",
              "\n",
              "  <div class=\"colab-df-container\">\n",
              "    <button class=\"colab-df-convert\" onclick=\"convertToInteractive('df-1fa2226f-7f86-432c-ab4d-0fcd5db62da6')\"\n",
              "            title=\"Convert this dataframe to an interactive table.\"\n",
              "            style=\"display:none;\">\n",
              "\n",
              "  <svg xmlns=\"http://www.w3.org/2000/svg\" height=\"24px\" viewBox=\"0 -960 960 960\">\n",
              "    <path d=\"M120-120v-720h720v720H120Zm60-500h600v-160H180v160Zm220 220h160v-160H400v160Zm0 220h160v-160H400v160ZM180-400h160v-160H180v160Zm440 0h160v-160H620v160ZM180-180h160v-160H180v160Zm440 0h160v-160H620v160Z\"/>\n",
              "  </svg>\n",
              "    </button>\n",
              "\n",
              "  <style>\n",
              "    .colab-df-container {\n",
              "      display:flex;\n",
              "      gap: 12px;\n",
              "    }\n",
              "\n",
              "    .colab-df-convert {\n",
              "      background-color: #E8F0FE;\n",
              "      border: none;\n",
              "      border-radius: 50%;\n",
              "      cursor: pointer;\n",
              "      display: none;\n",
              "      fill: #1967D2;\n",
              "      height: 32px;\n",
              "      padding: 0 0 0 0;\n",
              "      width: 32px;\n",
              "    }\n",
              "\n",
              "    .colab-df-convert:hover {\n",
              "      background-color: #E2EBFA;\n",
              "      box-shadow: 0px 1px 2px rgba(60, 64, 67, 0.3), 0px 1px 3px 1px rgba(60, 64, 67, 0.15);\n",
              "      fill: #174EA6;\n",
              "    }\n",
              "\n",
              "    .colab-df-buttons div {\n",
              "      margin-bottom: 4px;\n",
              "    }\n",
              "\n",
              "    [theme=dark] .colab-df-convert {\n",
              "      background-color: #3B4455;\n",
              "      fill: #D2E3FC;\n",
              "    }\n",
              "\n",
              "    [theme=dark] .colab-df-convert:hover {\n",
              "      background-color: #434B5C;\n",
              "      box-shadow: 0px 1px 3px 1px rgba(0, 0, 0, 0.15);\n",
              "      filter: drop-shadow(0px 1px 2px rgba(0, 0, 0, 0.3));\n",
              "      fill: #FFFFFF;\n",
              "    }\n",
              "  </style>\n",
              "\n",
              "    <script>\n",
              "      const buttonEl =\n",
              "        document.querySelector('#df-1fa2226f-7f86-432c-ab4d-0fcd5db62da6 button.colab-df-convert');\n",
              "      buttonEl.style.display =\n",
              "        google.colab.kernel.accessAllowed ? 'block' : 'none';\n",
              "\n",
              "      async function convertToInteractive(key) {\n",
              "        const element = document.querySelector('#df-1fa2226f-7f86-432c-ab4d-0fcd5db62da6');\n",
              "        const dataTable =\n",
              "          await google.colab.kernel.invokeFunction('convertToInteractive',\n",
              "                                                    [key], {});\n",
              "        if (!dataTable) return;\n",
              "\n",
              "        const docLinkHtml = 'Like what you see? Visit the ' +\n",
              "          '<a target=\"_blank\" href=https://colab.research.google.com/notebooks/data_table.ipynb>data table notebook</a>'\n",
              "          + ' to learn more about interactive tables.';\n",
              "        element.innerHTML = '';\n",
              "        dataTable['output_type'] = 'display_data';\n",
              "        await google.colab.output.renderOutput(dataTable, element);\n",
              "        const docLink = document.createElement('div');\n",
              "        docLink.innerHTML = docLinkHtml;\n",
              "        element.appendChild(docLink);\n",
              "      }\n",
              "    </script>\n",
              "  </div>\n",
              "\n",
              "\n",
              "<div id=\"df-e70aab1e-d3e1-4da5-a590-758a62bc1437\">\n",
              "  <button class=\"colab-df-quickchart\" onclick=\"quickchart('df-e70aab1e-d3e1-4da5-a590-758a62bc1437')\"\n",
              "            title=\"Suggest charts.\"\n",
              "            style=\"display:none;\">\n",
              "\n",
              "<svg xmlns=\"http://www.w3.org/2000/svg\" height=\"24px\"viewBox=\"0 0 24 24\"\n",
              "     width=\"24px\">\n",
              "    <g>\n",
              "        <path d=\"M19 3H5c-1.1 0-2 .9-2 2v14c0 1.1.9 2 2 2h14c1.1 0 2-.9 2-2V5c0-1.1-.9-2-2-2zM9 17H7v-7h2v7zm4 0h-2V7h2v10zm4 0h-2v-4h2v4z\"/>\n",
              "    </g>\n",
              "</svg>\n",
              "  </button>\n",
              "\n",
              "<style>\n",
              "  .colab-df-quickchart {\n",
              "      --bg-color: #E8F0FE;\n",
              "      --fill-color: #1967D2;\n",
              "      --hover-bg-color: #E2EBFA;\n",
              "      --hover-fill-color: #174EA6;\n",
              "      --disabled-fill-color: #AAA;\n",
              "      --disabled-bg-color: #DDD;\n",
              "  }\n",
              "\n",
              "  [theme=dark] .colab-df-quickchart {\n",
              "      --bg-color: #3B4455;\n",
              "      --fill-color: #D2E3FC;\n",
              "      --hover-bg-color: #434B5C;\n",
              "      --hover-fill-color: #FFFFFF;\n",
              "      --disabled-bg-color: #3B4455;\n",
              "      --disabled-fill-color: #666;\n",
              "  }\n",
              "\n",
              "  .colab-df-quickchart {\n",
              "    background-color: var(--bg-color);\n",
              "    border: none;\n",
              "    border-radius: 50%;\n",
              "    cursor: pointer;\n",
              "    display: none;\n",
              "    fill: var(--fill-color);\n",
              "    height: 32px;\n",
              "    padding: 0;\n",
              "    width: 32px;\n",
              "  }\n",
              "\n",
              "  .colab-df-quickchart:hover {\n",
              "    background-color: var(--hover-bg-color);\n",
              "    box-shadow: 0 1px 2px rgba(60, 64, 67, 0.3), 0 1px 3px 1px rgba(60, 64, 67, 0.15);\n",
              "    fill: var(--button-hover-fill-color);\n",
              "  }\n",
              "\n",
              "  .colab-df-quickchart-complete:disabled,\n",
              "  .colab-df-quickchart-complete:disabled:hover {\n",
              "    background-color: var(--disabled-bg-color);\n",
              "    fill: var(--disabled-fill-color);\n",
              "    box-shadow: none;\n",
              "  }\n",
              "\n",
              "  .colab-df-spinner {\n",
              "    border: 2px solid var(--fill-color);\n",
              "    border-color: transparent;\n",
              "    border-bottom-color: var(--fill-color);\n",
              "    animation:\n",
              "      spin 1s steps(1) infinite;\n",
              "  }\n",
              "\n",
              "  @keyframes spin {\n",
              "    0% {\n",
              "      border-color: transparent;\n",
              "      border-bottom-color: var(--fill-color);\n",
              "      border-left-color: var(--fill-color);\n",
              "    }\n",
              "    20% {\n",
              "      border-color: transparent;\n",
              "      border-left-color: var(--fill-color);\n",
              "      border-top-color: var(--fill-color);\n",
              "    }\n",
              "    30% {\n",
              "      border-color: transparent;\n",
              "      border-left-color: var(--fill-color);\n",
              "      border-top-color: var(--fill-color);\n",
              "      border-right-color: var(--fill-color);\n",
              "    }\n",
              "    40% {\n",
              "      border-color: transparent;\n",
              "      border-right-color: var(--fill-color);\n",
              "      border-top-color: var(--fill-color);\n",
              "    }\n",
              "    60% {\n",
              "      border-color: transparent;\n",
              "      border-right-color: var(--fill-color);\n",
              "    }\n",
              "    80% {\n",
              "      border-color: transparent;\n",
              "      border-right-color: var(--fill-color);\n",
              "      border-bottom-color: var(--fill-color);\n",
              "    }\n",
              "    90% {\n",
              "      border-color: transparent;\n",
              "      border-bottom-color: var(--fill-color);\n",
              "    }\n",
              "  }\n",
              "</style>\n",
              "\n",
              "  <script>\n",
              "    async function quickchart(key) {\n",
              "      const quickchartButtonEl =\n",
              "        document.querySelector('#' + key + ' button');\n",
              "      quickchartButtonEl.disabled = true;  // To prevent multiple clicks.\n",
              "      quickchartButtonEl.classList.add('colab-df-spinner');\n",
              "      try {\n",
              "        const charts = await google.colab.kernel.invokeFunction(\n",
              "            'suggestCharts', [key], {});\n",
              "      } catch (error) {\n",
              "        console.error('Error during call to suggestCharts:', error);\n",
              "      }\n",
              "      quickchartButtonEl.classList.remove('colab-df-spinner');\n",
              "      quickchartButtonEl.classList.add('colab-df-quickchart-complete');\n",
              "    }\n",
              "    (() => {\n",
              "      let quickchartButtonEl =\n",
              "        document.querySelector('#df-e70aab1e-d3e1-4da5-a590-758a62bc1437 button');\n",
              "      quickchartButtonEl.style.display =\n",
              "        google.colab.kernel.accessAllowed ? 'block' : 'none';\n",
              "    })();\n",
              "  </script>\n",
              "</div>\n",
              "    </div>\n",
              "  </div>\n"
            ]
          },
          "metadata": {},
          "execution_count": 7
        }
      ],
      "source": [
        "df.head()"
      ]
    },
    {
      "cell_type": "markdown",
      "source": [
        "Display the list of column names"
      ],
      "metadata": {
        "id": "gLlOR2W4GtHP"
      }
    },
    {
      "cell_type": "code",
      "execution_count": null,
      "metadata": {
        "colab": {
          "base_uri": "https://localhost:8080/"
        },
        "id": "GcejY8QaGYxT",
        "outputId": "d3d3f321-d6b3-4292-b99d-2a63709328b6"
      },
      "outputs": [
        {
          "output_type": "execute_result",
          "data": {
            "text/plain": [
              "Index(['sujeto', 'dia', 'tiempo', 'sexo', 'edad', 'horario', 'feliz',\n",
              "       'enfadado', 'triste', 'vergonzoso', 'angustiado', 'relajado',\n",
              "       'culpable', 'frustrado', 'otra', '¿Qué estas haciendo?\\n(codificada)',\n",
              "       'nº de atracones', 'Nº pensamientos de autolesiones',\n",
              "       'Nº veces toma \\ndrogas', 'nº veces\\nsexo', 'Nº discusiones con otros',\n",
              "       'Unnamed: 21', 'Unnamed: 22', 'enfadado.1', 'triste.1', 'vergonzoso.1',\n",
              "       'angustiado.1', 'culpable.1', 'frustrado.1', 'vacio', 'rechazado',\n",
              "       'otro', 'Unnamed: 32', 'enfadado.2', 'triste.2', 'vergonzoso.2',\n",
              "       'angustiado.2', 'culpable.2', 'frustrado.2', 'vacio.1', 'rechazado.1',\n",
              "       'otro.1'],\n",
              "      dtype='object')"
            ]
          },
          "metadata": {},
          "execution_count": 8
        }
      ],
      "source": [
        "df.columns"
      ]
    },
    {
      "cell_type": "markdown",
      "metadata": {
        "id": "LWZEWzbLV8q1"
      },
      "source": [
        "Extract the names of the columns corresponding to the emotions + store the elements in an \"emociones\" list (columns 6 to 15 corresponding to the columns of the 8 emotions)"
      ]
    },
    {
      "cell_type": "code",
      "execution_count": null,
      "metadata": {
        "colab": {
          "base_uri": "https://localhost:8080/"
        },
        "id": "ACzMromZV92V",
        "outputId": "5758ad1a-62b8-4973-9b05-c466de2b055c"
      },
      "outputs": [
        {
          "output_type": "execute_result",
          "data": {
            "text/plain": [
              "['feliz',\n",
              " 'enfadado',\n",
              " 'triste',\n",
              " 'vergonzoso',\n",
              " 'angustiado',\n",
              " 'relajado',\n",
              " 'culpable',\n",
              " 'frustrado',\n",
              " 'otra']"
            ]
          },
          "metadata": {},
          "execution_count": 9
        }
      ],
      "source": [
        "emociones = df.columns[6:15].tolist()\n",
        "emociones"
      ]
    },
    {
      "cell_type": "markdown",
      "metadata": {
        "id": "Gydrlx-BV5b0"
      },
      "source": [
        "#Select emotion columns"
      ]
    },
    {
      "cell_type": "markdown",
      "metadata": {
        "id": "EcT0ZxrRV_Yr"
      },
      "source": [
        "Assignment of emotion columns to X_train,X_test"
      ]
    },
    {
      "cell_type": "code",
      "execution_count": null,
      "metadata": {
        "colab": {
          "base_uri": "https://localhost:8080/"
        },
        "id": "HhbuV7dx6mGm",
        "outputId": "63b2ab5d-dad5-4bdb-9581-ec2c99f4a4a5"
      },
      "outputs": [
        {
          "output_type": "stream",
          "name": "stdout",
          "text": [
            "X_train's shape : (1726, 9)\n",
            "X_test's shape : (408, 9)\n"
          ]
        }
      ],
      "source": [
        "# This instruction allows to assign the first 51 individuals to the training dataset\n",
        "X_train=df[emociones][df['sujeto']<=51]\n",
        "print(\"X_train's shape :\",X_train.shape)\n",
        "\n",
        "# This instruction allows to assign the last 13 (64-51=13) individuals to the testing dataset\n",
        "X_test=df[emociones][df['sujeto']>51]\n",
        "print(\"X_test's shape :\",X_test.shape)"
      ]
    },
    {
      "cell_type": "code",
      "execution_count": null,
      "metadata": {
        "colab": {
          "base_uri": "https://localhost:8080/"
        },
        "id": "0VnP0g237K0j",
        "outputId": "80e4381f-94bb-4f8d-cbc1-07ca597636c4"
      },
      "outputs": [
        {
          "output_type": "stream",
          "name": "stdout",
          "text": [
            "The number of null values in X_train is:  feliz         0\n",
            "enfadado      0\n",
            "triste        0\n",
            "vergonzoso    0\n",
            "angustiado    0\n",
            "relajado      0\n",
            "culpable      0\n",
            "frustrado     0\n",
            "otra          0\n",
            "dtype: int64\n",
            "\n",
            "The number of null values in X_test is:  feliz         0\n",
            "enfadado      0\n",
            "triste        0\n",
            "vergonzoso    0\n",
            "angustiado    0\n",
            "relajado      0\n",
            "culpable      0\n",
            "frustrado     0\n",
            "otra          0\n",
            "dtype: int64\n"
          ]
        }
      ],
      "source": [
        "#This intructiona fills the null values with ZEROs\n",
        "X_train.fillna(0,inplace=True)\n",
        "X_test.fillna(0,inplace=True)\n",
        "\n",
        "#This function allows user to determine the number of null rows in each column\n",
        "print('The number of null values in X_train is: ',X_train.isnull().sum())\n",
        "print('\\nThe number of null values in X_test is: ',X_test.isnull().sum())"
      ]
    },
    {
      "cell_type": "markdown",
      "metadata": {
        "id": "WT3ExNtyWEoU"
      },
      "source": [
        "#Assign the label \"Nº de autolesiones\" (column 21) to the variable Y"
      ]
    },
    {
      "cell_type": "code",
      "execution_count": null,
      "metadata": {
        "colab": {
          "base_uri": "https://localhost:8080/"
        },
        "id": "PngWkbXaWGWU",
        "outputId": "a8283310-4e3b-43d1-96b5-13fee98df7fb"
      },
      "outputs": [
        {
          "output_type": "stream",
          "name": "stdout",
          "text": [
            "Y_train's shape : (1726,)\n",
            "Y_test's shape : (408,)\n"
          ]
        }
      ],
      "source": [
        "#same thing as X_train and X_test concerning [df['sujeto']<=51] and [df['sujeto']>51]\n",
        "#the mask(df['Nº pensamientos de autolesiones'] >0, 1) function allows to replace values>0 in column 'Nº pensamientos de autolesiones' with 1\n",
        "Y_train = df['Nº pensamientos de autolesiones'][df['sujeto']<=51].mask(df['Nº pensamientos de autolesiones'] >0, 1)\n",
        "print(\"Y_train's shape :\",Y_train.shape)\n",
        "Y_test = df['Nº pensamientos de autolesiones'][df['sujeto']>51].mask(df['Nº pensamientos de autolesiones'] >0, 1)\n",
        "print(\"Y_test's shape :\",Y_test.shape)"
      ]
    },
    {
      "cell_type": "code",
      "execution_count": null,
      "metadata": {
        "colab": {
          "base_uri": "https://localhost:8080/"
        },
        "id": "NwBP0BrS93Ad",
        "outputId": "268e2a9b-29aa-494e-ccf2-900fd6c91239"
      },
      "outputs": [
        {
          "output_type": "execute_result",
          "data": {
            "text/plain": [
              "1.0    216\n",
              "Name: Nº pensamientos de autolesiones, dtype: int64"
            ]
          },
          "metadata": {},
          "execution_count": 13
        }
      ],
      "source": [
        "#number of occurrences of each unique value in the series\n",
        "Y_train.value_counts()"
      ]
    },
    {
      "cell_type": "code",
      "execution_count": null,
      "metadata": {
        "colab": {
          "base_uri": "https://localhost:8080/"
        },
        "id": "A2Flzo2w3-o7",
        "outputId": "476fc5c4-b52c-443d-bc18-c9a1f65d2f59"
      },
      "outputs": [
        {
          "output_type": "execute_result",
          "data": {
            "text/plain": [
              "1.0    33\n",
              "Name: Nº pensamientos de autolesiones, dtype: int64"
            ]
          },
          "metadata": {},
          "execution_count": 14
        }
      ],
      "source": [
        "#number of occurrences of each unique value in the series\n",
        "Y_test.value_counts()"
      ]
    },
    {
      "cell_type": "markdown",
      "metadata": {
        "id": "Ux0mdWrtqBPR"
      },
      "source": [
        "# Changing all null values in Y dataframes to zero"
      ]
    },
    {
      "cell_type": "code",
      "execution_count": null,
      "metadata": {
        "colab": {
          "base_uri": "https://localhost:8080/"
        },
        "id": "YHfTTsga8SzM",
        "outputId": "7db60401-df89-460a-8606-f9ac38d956e9"
      },
      "outputs": [
        {
          "output_type": "stream",
          "name": "stdout",
          "text": [
            "The number of null values in Y_train is:  0\n",
            "The number of null values in Y_test is:  0\n"
          ]
        }
      ],
      "source": [
        "#This intructiona fills the null values with ZEROs\n",
        "Y_train.fillna(0,inplace=True)\n",
        "Y_test.fillna(0,inplace=True)\n",
        "\n",
        "#This function allows user to determine the number of null rows in each column\n",
        "print('The number of null values in Y_train is: ',Y_train.isnull().sum())\n",
        "print('The number of null values in Y_test is: ',Y_test.isnull().sum())"
      ]
    },
    {
      "cell_type": "markdown",
      "metadata": {
        "id": "6VvuRoQHMknQ"
      },
      "source": [
        "#NOW OUR DATASET IS READY FOR ML ✅✅"
      ]
    },
    {
      "cell_type": "markdown",
      "source": [
        "#Improve sensibility with the GridSearchCV method, which automatically finds the best hyperparameters for the GradientBoostingClassifier model and to prevent the dataset from being unbalanced with undersampling method"
      ],
      "metadata": {
        "id": "6qyZ4tTf5mv1"
      }
    },
    {
      "cell_type": "markdown",
      "source": [
        "Using under sampling method to handle imbalanced data"
      ],
      "metadata": {
        "id": "hYofT2upHQ1C"
      }
    },
    {
      "cell_type": "code",
      "execution_count": null,
      "metadata": {
        "id": "wlVkE4ojhoP7"
      },
      "outputs": [],
      "source": [
        "from imblearn.under_sampling import NearMiss"
      ]
    },
    {
      "cell_type": "code",
      "execution_count": null,
      "metadata": {
        "id": "EvLmFDWDhroi"
      },
      "outputs": [],
      "source": [
        "# Create an instance of NearMiss without using random_state\n",
        "nm = NearMiss()\n",
        "\n",
        "# Apply sampling\n",
        "X_res, y_res = nm.fit_resample(X_train, Y_train)"
      ]
    },
    {
      "cell_type": "markdown",
      "source": [
        "Know the size of the input data (X_res) and associated labels (y_res)"
      ],
      "metadata": {
        "id": "K9PW5cWsHuda"
      }
    },
    {
      "cell_type": "code",
      "execution_count": null,
      "metadata": {
        "colab": {
          "base_uri": "https://localhost:8080/"
        },
        "id": "IelduunLicni",
        "outputId": "ba15e9aa-8819-4d4e-ae1d-f80882454489"
      },
      "outputs": [
        {
          "output_type": "execute_result",
          "data": {
            "text/plain": [
              "((432, 9), (432,))"
            ]
          },
          "metadata": {},
          "execution_count": 18
        }
      ],
      "source": [
        "X_res.shape,y_res.shape"
      ]
    },
    {
      "cell_type": "markdown",
      "source": [
        "Display information about the size (number of samples) of data sets before and after resampling"
      ],
      "metadata": {
        "id": "x4o-eKUXH32U"
      }
    },
    {
      "cell_type": "code",
      "execution_count": null,
      "metadata": {
        "colab": {
          "base_uri": "https://localhost:8080/"
        },
        "id": "YIyJ4Ke_ie0K",
        "outputId": "4d8cd048-f0a8-437b-cdcb-3e07c617190d"
      },
      "outputs": [
        {
          "output_type": "stream",
          "name": "stdout",
          "text": [
            "Original dataset shape Counter({0.0: 1510, 1.0: 216})\n",
            "Resampled dataset shape Counter({0.0: 216, 1.0: 216})\n"
          ]
        }
      ],
      "source": [
        "from collections import Counter\n",
        "print('Original dataset shape {}'.format(Counter(Y_train)))\n",
        "print('Resampled dataset shape {}'.format(Counter(y_res)))"
      ]
    },
    {
      "cell_type": "markdown",
      "metadata": {
        "id": "_N_gsq-NCp7x"
      },
      "source": [
        "Using GridSearchCV for increasing the sensibility"
      ]
    },
    {
      "cell_type": "code",
      "execution_count": null,
      "metadata": {
        "id": "KIWXFecHDmv7"
      },
      "outputs": [],
      "source": [
        "from sklearn.model_selection import GridSearchCV"
      ]
    },
    {
      "cell_type": "markdown",
      "source": [
        "Find the optimal values for the model parameters GradientBoostingClassifier"
      ],
      "metadata": {
        "id": "bQ-8OwL7IRwx"
      }
    },
    {
      "cell_type": "code",
      "execution_count": null,
      "metadata": {
        "id": "tG5QJZ7rCr-z"
      },
      "outputs": [],
      "source": [
        "GBC=GradientBoostingClassifier()\n",
        "search_grid={'n_estimators':[500,1000,1400, 1500, 2000],\n",
        "            'learning_rate':[.001,0.01,.1],\n",
        "            'max_depth':[1,3,5],\n",
        "            'subsample':[.5,.75,1],\n",
        "            'random_state':[1]}\n",
        "search=GridSearchCV(estimator=GBC,param_grid=search_grid,scoring='accuracy',n_jobs=1)"
      ]
    },
    {
      "cell_type": "markdown",
      "source": [
        "Perform a search for the best hyperparameters for the GradientBoostingClassifier model using GridSearchCV."
      ],
      "metadata": {
        "id": "OeRCsfhaIYwo"
      }
    },
    {
      "cell_type": "code",
      "execution_count": null,
      "metadata": {
        "colab": {
          "base_uri": "https://localhost:8080/",
          "height": 117
        },
        "id": "TkDkIMNTFCXS",
        "outputId": "b1d77058-31b7-4dc0-81ce-b26e67387320"
      },
      "outputs": [
        {
          "output_type": "execute_result",
          "data": {
            "text/plain": [
              "GridSearchCV(estimator=GradientBoostingClassifier(), n_jobs=1,\n",
              "             param_grid={'learning_rate': [0.001, 0.01, 0.1],\n",
              "                         'max_depth': [1, 3, 5],\n",
              "                         'n_estimators': [500, 1000, 1400, 1500, 2000],\n",
              "                         'random_state': [1], 'subsample': [0.5, 0.75, 1]},\n",
              "             scoring='accuracy')"
            ],
            "text/html": [
              "<style>#sk-container-id-1 {color: black;background-color: white;}#sk-container-id-1 pre{padding: 0;}#sk-container-id-1 div.sk-toggleable {background-color: white;}#sk-container-id-1 label.sk-toggleable__label {cursor: pointer;display: block;width: 100%;margin-bottom: 0;padding: 0.3em;box-sizing: border-box;text-align: center;}#sk-container-id-1 label.sk-toggleable__label-arrow:before {content: \"▸\";float: left;margin-right: 0.25em;color: #696969;}#sk-container-id-1 label.sk-toggleable__label-arrow:hover:before {color: black;}#sk-container-id-1 div.sk-estimator:hover label.sk-toggleable__label-arrow:before {color: black;}#sk-container-id-1 div.sk-toggleable__content {max-height: 0;max-width: 0;overflow: hidden;text-align: left;background-color: #f0f8ff;}#sk-container-id-1 div.sk-toggleable__content pre {margin: 0.2em;color: black;border-radius: 0.25em;background-color: #f0f8ff;}#sk-container-id-1 input.sk-toggleable__control:checked~div.sk-toggleable__content {max-height: 200px;max-width: 100%;overflow: auto;}#sk-container-id-1 input.sk-toggleable__control:checked~label.sk-toggleable__label-arrow:before {content: \"▾\";}#sk-container-id-1 div.sk-estimator input.sk-toggleable__control:checked~label.sk-toggleable__label {background-color: #d4ebff;}#sk-container-id-1 div.sk-label input.sk-toggleable__control:checked~label.sk-toggleable__label {background-color: #d4ebff;}#sk-container-id-1 input.sk-hidden--visually {border: 0;clip: rect(1px 1px 1px 1px);clip: rect(1px, 1px, 1px, 1px);height: 1px;margin: -1px;overflow: hidden;padding: 0;position: absolute;width: 1px;}#sk-container-id-1 div.sk-estimator {font-family: monospace;background-color: #f0f8ff;border: 1px dotted black;border-radius: 0.25em;box-sizing: border-box;margin-bottom: 0.5em;}#sk-container-id-1 div.sk-estimator:hover {background-color: #d4ebff;}#sk-container-id-1 div.sk-parallel-item::after {content: \"\";width: 100%;border-bottom: 1px solid gray;flex-grow: 1;}#sk-container-id-1 div.sk-label:hover label.sk-toggleable__label {background-color: #d4ebff;}#sk-container-id-1 div.sk-serial::before {content: \"\";position: absolute;border-left: 1px solid gray;box-sizing: border-box;top: 0;bottom: 0;left: 50%;z-index: 0;}#sk-container-id-1 div.sk-serial {display: flex;flex-direction: column;align-items: center;background-color: white;padding-right: 0.2em;padding-left: 0.2em;position: relative;}#sk-container-id-1 div.sk-item {position: relative;z-index: 1;}#sk-container-id-1 div.sk-parallel {display: flex;align-items: stretch;justify-content: center;background-color: white;position: relative;}#sk-container-id-1 div.sk-item::before, #sk-container-id-1 div.sk-parallel-item::before {content: \"\";position: absolute;border-left: 1px solid gray;box-sizing: border-box;top: 0;bottom: 0;left: 50%;z-index: -1;}#sk-container-id-1 div.sk-parallel-item {display: flex;flex-direction: column;z-index: 1;position: relative;background-color: white;}#sk-container-id-1 div.sk-parallel-item:first-child::after {align-self: flex-end;width: 50%;}#sk-container-id-1 div.sk-parallel-item:last-child::after {align-self: flex-start;width: 50%;}#sk-container-id-1 div.sk-parallel-item:only-child::after {width: 0;}#sk-container-id-1 div.sk-dashed-wrapped {border: 1px dashed gray;margin: 0 0.4em 0.5em 0.4em;box-sizing: border-box;padding-bottom: 0.4em;background-color: white;}#sk-container-id-1 div.sk-label label {font-family: monospace;font-weight: bold;display: inline-block;line-height: 1.2em;}#sk-container-id-1 div.sk-label-container {text-align: center;}#sk-container-id-1 div.sk-container {/* jupyter's `normalize.less` sets `[hidden] { display: none; }` but bootstrap.min.css set `[hidden] { display: none !important; }` so we also need the `!important` here to be able to override the default hidden behavior on the sphinx rendered scikit-learn.org. See: https://github.com/scikit-learn/scikit-learn/issues/21755 */display: inline-block !important;position: relative;}#sk-container-id-1 div.sk-text-repr-fallback {display: none;}</style><div id=\"sk-container-id-1\" class=\"sk-top-container\"><div class=\"sk-text-repr-fallback\"><pre>GridSearchCV(estimator=GradientBoostingClassifier(), n_jobs=1,\n",
              "             param_grid={&#x27;learning_rate&#x27;: [0.001, 0.01, 0.1],\n",
              "                         &#x27;max_depth&#x27;: [1, 3, 5],\n",
              "                         &#x27;n_estimators&#x27;: [500, 1000, 1400, 1500, 2000],\n",
              "                         &#x27;random_state&#x27;: [1], &#x27;subsample&#x27;: [0.5, 0.75, 1]},\n",
              "             scoring=&#x27;accuracy&#x27;)</pre><b>In a Jupyter environment, please rerun this cell to show the HTML representation or trust the notebook. <br />On GitHub, the HTML representation is unable to render, please try loading this page with nbviewer.org.</b></div><div class=\"sk-container\" hidden><div class=\"sk-item sk-dashed-wrapped\"><div class=\"sk-label-container\"><div class=\"sk-label sk-toggleable\"><input class=\"sk-toggleable__control sk-hidden--visually\" id=\"sk-estimator-id-1\" type=\"checkbox\" ><label for=\"sk-estimator-id-1\" class=\"sk-toggleable__label sk-toggleable__label-arrow\">GridSearchCV</label><div class=\"sk-toggleable__content\"><pre>GridSearchCV(estimator=GradientBoostingClassifier(), n_jobs=1,\n",
              "             param_grid={&#x27;learning_rate&#x27;: [0.001, 0.01, 0.1],\n",
              "                         &#x27;max_depth&#x27;: [1, 3, 5],\n",
              "                         &#x27;n_estimators&#x27;: [500, 1000, 1400, 1500, 2000],\n",
              "                         &#x27;random_state&#x27;: [1], &#x27;subsample&#x27;: [0.5, 0.75, 1]},\n",
              "             scoring=&#x27;accuracy&#x27;)</pre></div></div></div><div class=\"sk-parallel\"><div class=\"sk-parallel-item\"><div class=\"sk-item\"><div class=\"sk-label-container\"><div class=\"sk-label sk-toggleable\"><input class=\"sk-toggleable__control sk-hidden--visually\" id=\"sk-estimator-id-2\" type=\"checkbox\" ><label for=\"sk-estimator-id-2\" class=\"sk-toggleable__label sk-toggleable__label-arrow\">estimator: GradientBoostingClassifier</label><div class=\"sk-toggleable__content\"><pre>GradientBoostingClassifier()</pre></div></div></div><div class=\"sk-serial\"><div class=\"sk-item\"><div class=\"sk-estimator sk-toggleable\"><input class=\"sk-toggleable__control sk-hidden--visually\" id=\"sk-estimator-id-3\" type=\"checkbox\" ><label for=\"sk-estimator-id-3\" class=\"sk-toggleable__label sk-toggleable__label-arrow\">GradientBoostingClassifier</label><div class=\"sk-toggleable__content\"><pre>GradientBoostingClassifier()</pre></div></div></div></div></div></div></div></div></div></div>"
            ]
          },
          "metadata": {},
          "execution_count": 22
        }
      ],
      "source": [
        "search"
      ]
    },
    {
      "cell_type": "markdown",
      "source": [
        "Execute the search"
      ],
      "metadata": {
        "id": "kmbtv8l_Ikbi"
      }
    },
    {
      "cell_type": "code",
      "execution_count": null,
      "metadata": {
        "id": "kKi_szbSFFCl",
        "colab": {
          "base_uri": "https://localhost:8080/",
          "height": 117
        },
        "outputId": "77785dff-f072-473f-f1c5-b98b59d209bf"
      },
      "outputs": [
        {
          "output_type": "execute_result",
          "data": {
            "text/plain": [
              "GridSearchCV(estimator=GradientBoostingClassifier(), n_jobs=1,\n",
              "             param_grid={'learning_rate': [0.001, 0.01, 0.1],\n",
              "                         'max_depth': [1, 3, 5],\n",
              "                         'n_estimators': [500, 1000, 1400, 1500, 2000],\n",
              "                         'random_state': [1], 'subsample': [0.5, 0.75, 1]},\n",
              "             scoring='accuracy')"
            ],
            "text/html": [
              "<style>#sk-container-id-2 {color: black;background-color: white;}#sk-container-id-2 pre{padding: 0;}#sk-container-id-2 div.sk-toggleable {background-color: white;}#sk-container-id-2 label.sk-toggleable__label {cursor: pointer;display: block;width: 100%;margin-bottom: 0;padding: 0.3em;box-sizing: border-box;text-align: center;}#sk-container-id-2 label.sk-toggleable__label-arrow:before {content: \"▸\";float: left;margin-right: 0.25em;color: #696969;}#sk-container-id-2 label.sk-toggleable__label-arrow:hover:before {color: black;}#sk-container-id-2 div.sk-estimator:hover label.sk-toggleable__label-arrow:before {color: black;}#sk-container-id-2 div.sk-toggleable__content {max-height: 0;max-width: 0;overflow: hidden;text-align: left;background-color: #f0f8ff;}#sk-container-id-2 div.sk-toggleable__content pre {margin: 0.2em;color: black;border-radius: 0.25em;background-color: #f0f8ff;}#sk-container-id-2 input.sk-toggleable__control:checked~div.sk-toggleable__content {max-height: 200px;max-width: 100%;overflow: auto;}#sk-container-id-2 input.sk-toggleable__control:checked~label.sk-toggleable__label-arrow:before {content: \"▾\";}#sk-container-id-2 div.sk-estimator input.sk-toggleable__control:checked~label.sk-toggleable__label {background-color: #d4ebff;}#sk-container-id-2 div.sk-label input.sk-toggleable__control:checked~label.sk-toggleable__label {background-color: #d4ebff;}#sk-container-id-2 input.sk-hidden--visually {border: 0;clip: rect(1px 1px 1px 1px);clip: rect(1px, 1px, 1px, 1px);height: 1px;margin: -1px;overflow: hidden;padding: 0;position: absolute;width: 1px;}#sk-container-id-2 div.sk-estimator {font-family: monospace;background-color: #f0f8ff;border: 1px dotted black;border-radius: 0.25em;box-sizing: border-box;margin-bottom: 0.5em;}#sk-container-id-2 div.sk-estimator:hover {background-color: #d4ebff;}#sk-container-id-2 div.sk-parallel-item::after {content: \"\";width: 100%;border-bottom: 1px solid gray;flex-grow: 1;}#sk-container-id-2 div.sk-label:hover label.sk-toggleable__label {background-color: #d4ebff;}#sk-container-id-2 div.sk-serial::before {content: \"\";position: absolute;border-left: 1px solid gray;box-sizing: border-box;top: 0;bottom: 0;left: 50%;z-index: 0;}#sk-container-id-2 div.sk-serial {display: flex;flex-direction: column;align-items: center;background-color: white;padding-right: 0.2em;padding-left: 0.2em;position: relative;}#sk-container-id-2 div.sk-item {position: relative;z-index: 1;}#sk-container-id-2 div.sk-parallel {display: flex;align-items: stretch;justify-content: center;background-color: white;position: relative;}#sk-container-id-2 div.sk-item::before, #sk-container-id-2 div.sk-parallel-item::before {content: \"\";position: absolute;border-left: 1px solid gray;box-sizing: border-box;top: 0;bottom: 0;left: 50%;z-index: -1;}#sk-container-id-2 div.sk-parallel-item {display: flex;flex-direction: column;z-index: 1;position: relative;background-color: white;}#sk-container-id-2 div.sk-parallel-item:first-child::after {align-self: flex-end;width: 50%;}#sk-container-id-2 div.sk-parallel-item:last-child::after {align-self: flex-start;width: 50%;}#sk-container-id-2 div.sk-parallel-item:only-child::after {width: 0;}#sk-container-id-2 div.sk-dashed-wrapped {border: 1px dashed gray;margin: 0 0.4em 0.5em 0.4em;box-sizing: border-box;padding-bottom: 0.4em;background-color: white;}#sk-container-id-2 div.sk-label label {font-family: monospace;font-weight: bold;display: inline-block;line-height: 1.2em;}#sk-container-id-2 div.sk-label-container {text-align: center;}#sk-container-id-2 div.sk-container {/* jupyter's `normalize.less` sets `[hidden] { display: none; }` but bootstrap.min.css set `[hidden] { display: none !important; }` so we also need the `!important` here to be able to override the default hidden behavior on the sphinx rendered scikit-learn.org. See: https://github.com/scikit-learn/scikit-learn/issues/21755 */display: inline-block !important;position: relative;}#sk-container-id-2 div.sk-text-repr-fallback {display: none;}</style><div id=\"sk-container-id-2\" class=\"sk-top-container\"><div class=\"sk-text-repr-fallback\"><pre>GridSearchCV(estimator=GradientBoostingClassifier(), n_jobs=1,\n",
              "             param_grid={&#x27;learning_rate&#x27;: [0.001, 0.01, 0.1],\n",
              "                         &#x27;max_depth&#x27;: [1, 3, 5],\n",
              "                         &#x27;n_estimators&#x27;: [500, 1000, 1400, 1500, 2000],\n",
              "                         &#x27;random_state&#x27;: [1], &#x27;subsample&#x27;: [0.5, 0.75, 1]},\n",
              "             scoring=&#x27;accuracy&#x27;)</pre><b>In a Jupyter environment, please rerun this cell to show the HTML representation or trust the notebook. <br />On GitHub, the HTML representation is unable to render, please try loading this page with nbviewer.org.</b></div><div class=\"sk-container\" hidden><div class=\"sk-item sk-dashed-wrapped\"><div class=\"sk-label-container\"><div class=\"sk-label sk-toggleable\"><input class=\"sk-toggleable__control sk-hidden--visually\" id=\"sk-estimator-id-4\" type=\"checkbox\" ><label for=\"sk-estimator-id-4\" class=\"sk-toggleable__label sk-toggleable__label-arrow\">GridSearchCV</label><div class=\"sk-toggleable__content\"><pre>GridSearchCV(estimator=GradientBoostingClassifier(), n_jobs=1,\n",
              "             param_grid={&#x27;learning_rate&#x27;: [0.001, 0.01, 0.1],\n",
              "                         &#x27;max_depth&#x27;: [1, 3, 5],\n",
              "                         &#x27;n_estimators&#x27;: [500, 1000, 1400, 1500, 2000],\n",
              "                         &#x27;random_state&#x27;: [1], &#x27;subsample&#x27;: [0.5, 0.75, 1]},\n",
              "             scoring=&#x27;accuracy&#x27;)</pre></div></div></div><div class=\"sk-parallel\"><div class=\"sk-parallel-item\"><div class=\"sk-item\"><div class=\"sk-label-container\"><div class=\"sk-label sk-toggleable\"><input class=\"sk-toggleable__control sk-hidden--visually\" id=\"sk-estimator-id-5\" type=\"checkbox\" ><label for=\"sk-estimator-id-5\" class=\"sk-toggleable__label sk-toggleable__label-arrow\">estimator: GradientBoostingClassifier</label><div class=\"sk-toggleable__content\"><pre>GradientBoostingClassifier()</pre></div></div></div><div class=\"sk-serial\"><div class=\"sk-item\"><div class=\"sk-estimator sk-toggleable\"><input class=\"sk-toggleable__control sk-hidden--visually\" id=\"sk-estimator-id-6\" type=\"checkbox\" ><label for=\"sk-estimator-id-6\" class=\"sk-toggleable__label sk-toggleable__label-arrow\">GradientBoostingClassifier</label><div class=\"sk-toggleable__content\"><pre>GradientBoostingClassifier()</pre></div></div></div></div></div></div></div></div></div></div>"
            ]
          },
          "metadata": {},
          "execution_count": 24
        }
      ],
      "source": [
        "search.fit(X_res, y_res)"
      ]
    },
    {
      "cell_type": "markdown",
      "source": [
        "Display the results of the best hyperparameters"
      ],
      "metadata": {
        "id": "_C2g3QHCInnz"
      }
    },
    {
      "cell_type": "code",
      "execution_count": null,
      "metadata": {
        "id": "rn7vFjf0FwOg",
        "colab": {
          "base_uri": "https://localhost:8080/"
        },
        "outputId": "7111db9f-19f1-4f93-a95d-aa0b6c640d19"
      },
      "outputs": [
        {
          "output_type": "stream",
          "name": "stdout",
          "text": [
            "{'learning_rate': 0.01, 'max_depth': 1, 'n_estimators': 1400, 'random_state': 1, 'subsample': 1}\n",
            "0.798476343223737\n"
          ]
        }
      ],
      "source": [
        "print(search.best_params_)\n",
        "print(search.best_score_)"
      ]
    },
    {
      "cell_type": "markdown",
      "metadata": {
        "id": "KPKIj8tYW4FT"
      },
      "source": [
        "#Gradient Boosting Classifier model"
      ]
    },
    {
      "cell_type": "markdown",
      "source": [
        "Creating a model with the best hyperparameters"
      ],
      "metadata": {
        "id": "LYRxI-4DIyxR"
      }
    },
    {
      "cell_type": "code",
      "execution_count": null,
      "metadata": {
        "id": "A3mTbs_UUFtT"
      },
      "outputs": [],
      "source": [
        "model_gbm = GradientBoostingClassifier(n_estimators=1400,\n",
        "                                       learning_rate=0.01,\n",
        "                                       max_depth=1,\n",
        "                                       subsample=1,\n",
        "                                       )"
      ]
    },
    {
      "cell_type": "markdown",
      "metadata": {
        "id": "tLRubTsAavvR"
      },
      "source": [
        "Train model"
      ]
    },
    {
      "cell_type": "code",
      "execution_count": null,
      "metadata": {
        "colab": {
          "base_uri": "https://localhost:8080/",
          "height": 92
        },
        "id": "w9Q1Q8pJUhD4",
        "outputId": "935a99ee-dda0-413c-92b7-7c270dffc1a9"
      },
      "outputs": [
        {
          "output_type": "execute_result",
          "data": {
            "text/plain": [
              "GradientBoostingClassifier(learning_rate=0.01, max_depth=1, n_estimators=1400,\n",
              "                           subsample=1)"
            ],
            "text/html": [
              "<style>#sk-container-id-3 {color: black;background-color: white;}#sk-container-id-3 pre{padding: 0;}#sk-container-id-3 div.sk-toggleable {background-color: white;}#sk-container-id-3 label.sk-toggleable__label {cursor: pointer;display: block;width: 100%;margin-bottom: 0;padding: 0.3em;box-sizing: border-box;text-align: center;}#sk-container-id-3 label.sk-toggleable__label-arrow:before {content: \"▸\";float: left;margin-right: 0.25em;color: #696969;}#sk-container-id-3 label.sk-toggleable__label-arrow:hover:before {color: black;}#sk-container-id-3 div.sk-estimator:hover label.sk-toggleable__label-arrow:before {color: black;}#sk-container-id-3 div.sk-toggleable__content {max-height: 0;max-width: 0;overflow: hidden;text-align: left;background-color: #f0f8ff;}#sk-container-id-3 div.sk-toggleable__content pre {margin: 0.2em;color: black;border-radius: 0.25em;background-color: #f0f8ff;}#sk-container-id-3 input.sk-toggleable__control:checked~div.sk-toggleable__content {max-height: 200px;max-width: 100%;overflow: auto;}#sk-container-id-3 input.sk-toggleable__control:checked~label.sk-toggleable__label-arrow:before {content: \"▾\";}#sk-container-id-3 div.sk-estimator input.sk-toggleable__control:checked~label.sk-toggleable__label {background-color: #d4ebff;}#sk-container-id-3 div.sk-label input.sk-toggleable__control:checked~label.sk-toggleable__label {background-color: #d4ebff;}#sk-container-id-3 input.sk-hidden--visually {border: 0;clip: rect(1px 1px 1px 1px);clip: rect(1px, 1px, 1px, 1px);height: 1px;margin: -1px;overflow: hidden;padding: 0;position: absolute;width: 1px;}#sk-container-id-3 div.sk-estimator {font-family: monospace;background-color: #f0f8ff;border: 1px dotted black;border-radius: 0.25em;box-sizing: border-box;margin-bottom: 0.5em;}#sk-container-id-3 div.sk-estimator:hover {background-color: #d4ebff;}#sk-container-id-3 div.sk-parallel-item::after {content: \"\";width: 100%;border-bottom: 1px solid gray;flex-grow: 1;}#sk-container-id-3 div.sk-label:hover label.sk-toggleable__label {background-color: #d4ebff;}#sk-container-id-3 div.sk-serial::before {content: \"\";position: absolute;border-left: 1px solid gray;box-sizing: border-box;top: 0;bottom: 0;left: 50%;z-index: 0;}#sk-container-id-3 div.sk-serial {display: flex;flex-direction: column;align-items: center;background-color: white;padding-right: 0.2em;padding-left: 0.2em;position: relative;}#sk-container-id-3 div.sk-item {position: relative;z-index: 1;}#sk-container-id-3 div.sk-parallel {display: flex;align-items: stretch;justify-content: center;background-color: white;position: relative;}#sk-container-id-3 div.sk-item::before, #sk-container-id-3 div.sk-parallel-item::before {content: \"\";position: absolute;border-left: 1px solid gray;box-sizing: border-box;top: 0;bottom: 0;left: 50%;z-index: -1;}#sk-container-id-3 div.sk-parallel-item {display: flex;flex-direction: column;z-index: 1;position: relative;background-color: white;}#sk-container-id-3 div.sk-parallel-item:first-child::after {align-self: flex-end;width: 50%;}#sk-container-id-3 div.sk-parallel-item:last-child::after {align-self: flex-start;width: 50%;}#sk-container-id-3 div.sk-parallel-item:only-child::after {width: 0;}#sk-container-id-3 div.sk-dashed-wrapped {border: 1px dashed gray;margin: 0 0.4em 0.5em 0.4em;box-sizing: border-box;padding-bottom: 0.4em;background-color: white;}#sk-container-id-3 div.sk-label label {font-family: monospace;font-weight: bold;display: inline-block;line-height: 1.2em;}#sk-container-id-3 div.sk-label-container {text-align: center;}#sk-container-id-3 div.sk-container {/* jupyter's `normalize.less` sets `[hidden] { display: none; }` but bootstrap.min.css set `[hidden] { display: none !important; }` so we also need the `!important` here to be able to override the default hidden behavior on the sphinx rendered scikit-learn.org. See: https://github.com/scikit-learn/scikit-learn/issues/21755 */display: inline-block !important;position: relative;}#sk-container-id-3 div.sk-text-repr-fallback {display: none;}</style><div id=\"sk-container-id-3\" class=\"sk-top-container\"><div class=\"sk-text-repr-fallback\"><pre>GradientBoostingClassifier(learning_rate=0.01, max_depth=1, n_estimators=1400,\n",
              "                           subsample=1)</pre><b>In a Jupyter environment, please rerun this cell to show the HTML representation or trust the notebook. <br />On GitHub, the HTML representation is unable to render, please try loading this page with nbviewer.org.</b></div><div class=\"sk-container\" hidden><div class=\"sk-item\"><div class=\"sk-estimator sk-toggleable\"><input class=\"sk-toggleable__control sk-hidden--visually\" id=\"sk-estimator-id-7\" type=\"checkbox\" checked><label for=\"sk-estimator-id-7\" class=\"sk-toggleable__label sk-toggleable__label-arrow\">GradientBoostingClassifier</label><div class=\"sk-toggleable__content\"><pre>GradientBoostingClassifier(learning_rate=0.01, max_depth=1, n_estimators=1400,\n",
              "                           subsample=1)</pre></div></div></div></div></div>"
            ]
          },
          "metadata": {},
          "execution_count": 28
        }
      ],
      "source": [
        "model_gbm.fit(X_res, y_res)"
      ]
    },
    {
      "cell_type": "markdown",
      "source": [
        "Number of estimators (decision trees)"
      ],
      "metadata": {
        "id": "Wkbuu1-QJC-c"
      }
    },
    {
      "cell_type": "code",
      "execution_count": null,
      "metadata": {
        "colab": {
          "base_uri": "https://localhost:8080/"
        },
        "id": "mjTOEC4WUqvA",
        "outputId": "366ce7a2-7de3-46ce-e5db-2a237538c3c4"
      },
      "outputs": [
        {
          "output_type": "execute_result",
          "data": {
            "text/plain": [
              "1400"
            ]
          },
          "metadata": {},
          "execution_count": 29
        }
      ],
      "source": [
        "len(model_gbm.estimators_)"
      ]
    },
    {
      "cell_type": "markdown",
      "metadata": {
        "id": "iaBOX9y2bGoa"
      },
      "source": [
        "Probability predictions: assessing model performance"
      ]
    },
    {
      "cell_type": "code",
      "execution_count": null,
      "metadata": {
        "id": "flOyFBdoWbb-"
      },
      "outputs": [],
      "source": [
        "from sklearn.metrics import roc_auc_score"
      ]
    },
    {
      "cell_type": "code",
      "execution_count": null,
      "metadata": {
        "colab": {
          "base_uri": "https://localhost:8080/"
        },
        "id": "zRrfKl56UueO",
        "outputId": "ade4daf8-a3a7-4dc0-d27c-525b99f0fb76"
      },
      "outputs": [
        {
          "output_type": "stream",
          "name": "stdout",
          "text": [
            "AUC Train : 0.9072\n",
            "AUC Test: 0.8011 \n"
          ]
        }
      ],
      "source": [
        "Y_train_pred = model_gbm.predict_proba(X_res)[:,1]\n",
        "Y_test_pred = model_gbm.predict_proba(X_test)[:,1]\n",
        "\n",
        "print(\"AUC Train : {:.4f}\\nAUC Test: {:.4f} \".format(roc_auc_score(y_res, Y_train_pred),\n",
        "                                                     roc_auc_score(Y_test, Y_test_pred)))"
      ]
    },
    {
      "cell_type": "markdown",
      "metadata": {
        "id": "X_82BN1MgArq"
      },
      "source": [
        "##Recall calculation"
      ]
    },
    {
      "cell_type": "code",
      "source": [
        "from sklearn.metrics import recall_score"
      ],
      "metadata": {
        "id": "g4Aq-BEuRENV"
      },
      "execution_count": null,
      "outputs": []
    },
    {
      "cell_type": "code",
      "source": [
        "# Calculation of model predictions on training and test sets\n",
        "Y_train_pred = model_gbm.predict(X_res)\n",
        "Y_test_pred = model_gbm.predict(X_test)\n",
        "\n",
        "#Calculating the sensitivity (recall) for the drive assembly\n",
        "sensitivity_train = recall_score(y_res, Y_train_pred)\n",
        "\n",
        "#Calculation of the sensitivity (recall) for the test set\n",
        "sensitivity_test = recall_score(Y_test, Y_test_pred)\n",
        "\n",
        "print(\"Sensitivity (recall) for the drive assembly:\", sensitivity_train)\n",
        "print(\"Sensitivity (recall) for the test set:\", sensitivity_test)"
      ],
      "metadata": {
        "colab": {
          "base_uri": "https://localhost:8080/"
        },
        "id": "BmZF4jhhRHck",
        "outputId": "7d58b77e-8367-43c6-c3c2-b5efb0079112"
      },
      "execution_count": null,
      "outputs": [
        {
          "output_type": "stream",
          "name": "stdout",
          "text": [
            "Sensibilité (rappel) pour l'ensemble d'entraînement: 0.8148148148148148\n",
            "Sensibilité (rappel) pour l'ensemble de test: 0.8787878787878788\n"
          ]
        }
      ]
    },
    {
      "cell_type": "markdown",
      "source": [
        "#Specificity calculation"
      ],
      "metadata": {
        "id": "cbLqd7VJRM-V"
      }
    },
    {
      "cell_type": "code",
      "source": [
        "#Calculation of model predictions on the training set\n",
        "Y_train_pred = model_gbm.predict(X_res)\n",
        "\n",
        "#Calculation of model predictions on the test set\n",
        "Y_test_pred = model_gbm.predict(X_test)\n",
        "\n",
        "#Calculation of the confusion matrix for the drive assembly\n",
        "confusion_train = confusion_matrix(y_res, Y_train_pred)\n",
        "tn_train, fp_train, fn_train, tp_train = confusion_train.ravel()\n",
        "\n",
        "# Calculating the Confusion Matrix for the Test Set\n",
        "confusion_test = confusion_matrix(Y_test, Y_test_pred)\n",
        "tn_test, fp_test, fn_test, tp_test = confusion_test.ravel()\n",
        "\n",
        "# Calculation of specificity for the drive assembly\n",
        "specificite_train = tn_train / (tn_train + fp_train)\n",
        "\n",
        "# Calculating specificity for the test set\n",
        "specificite_test = tn_test / (tn_test + fp_test)\n",
        "\n",
        "print(\"Specificity for the train set:\", specificite_train)\n",
        "print(\"Specificity for the test set:\", specificite_test)\n"
      ],
      "metadata": {
        "colab": {
          "base_uri": "https://localhost:8080/"
        },
        "id": "7lyHRn0RRX9t",
        "outputId": "09db2531-3668-45d3-f077-206f8b73cd55"
      },
      "execution_count": null,
      "outputs": [
        {
          "output_type": "stream",
          "name": "stdout",
          "text": [
            "Spécificité pour l'ensemble d'entraînement: 0.8564814814814815\n",
            "Spécificité pour l'ensemble de test: 0.6426666666666667\n"
          ]
        }
      ]
    },
    {
      "cell_type": "markdown",
      "source": [
        "#Accuracy calculation"
      ],
      "metadata": {
        "id": "petkUSKLXIp0"
      }
    },
    {
      "cell_type": "code",
      "source": [
        "from sklearn.metrics import accuracy_score\n",
        "\n",
        "# Predict labels on the training and test set\n",
        "Y_train_pred = model_gbm.predict(X_res)\n",
        "Y_test_pred = model_gbm.predict(X_test)\n",
        "\n",
        "# Calculate accuracy\n",
        "accuracy_train = accuracy_score(y_res, Y_train_pred)\n",
        "accuracy_test = accuracy_score(Y_test, Y_test_pred)\n",
        "\n",
        "print(\"Accuracy for the train set:\", accuracy_train)\n",
        "print(\"Accuracy for the test set:\", accuracy_test)\n"
      ],
      "metadata": {
        "colab": {
          "base_uri": "https://localhost:8080/"
        },
        "id": "fgRWJKLiXKk9",
        "outputId": "6d212fea-12f7-4621-b565-150f135562c7"
      },
      "execution_count": null,
      "outputs": [
        {
          "output_type": "stream",
          "name": "stdout",
          "text": [
            "Précision sur l'ensemble d'entraînement: 0.8356481481481481\n",
            "Précision sur l'ensemble de test: 0.6617647058823529\n"
          ]
        }
      ]
    },
    {
      "cell_type": "markdown",
      "source": [
        "##View the confusion matrix or evaluate its performance by comparing its predictions with the real labels"
      ],
      "metadata": {
        "id": "PKH_aD5jKjrJ"
      }
    },
    {
      "cell_type": "markdown",
      "source": [
        "Import libraries"
      ],
      "metadata": {
        "id": "BSQyY8MDT8D0"
      }
    },
    {
      "cell_type": "code",
      "source": [
        "from sklearn.metrics import confusion_matrix, ConfusionMatrixDisplay\n",
        "import matplotlib.pyplot as plt\n"
      ],
      "metadata": {
        "id": "dEOHovCfTeAt"
      },
      "execution_count": null,
      "outputs": []
    },
    {
      "cell_type": "markdown",
      "source": [
        "Predictions on test dataset"
      ],
      "metadata": {
        "id": "4c-pFxtvT9v9"
      }
    },
    {
      "cell_type": "code",
      "source": [
        "y_pred = model_gbm.predict(X_test)\n"
      ],
      "metadata": {
        "id": "WverzI3QTT3E"
      },
      "execution_count": null,
      "outputs": []
    },
    {
      "cell_type": "markdown",
      "source": [
        "Calculate the confusion matrix"
      ],
      "metadata": {
        "id": "i6gIVe7wUBic"
      }
    },
    {
      "cell_type": "code",
      "source": [
        "confusion = confusion_matrix(Y_test, y_pred)\n"
      ],
      "metadata": {
        "id": "gXj9zdsNTVy1"
      },
      "execution_count": null,
      "outputs": []
    },
    {
      "cell_type": "markdown",
      "source": [
        "Show the confusion matrix"
      ],
      "metadata": {
        "id": "rC2vlPx-UGUM"
      }
    },
    {
      "cell_type": "code",
      "source": [
        "cm_display = ConfusionMatrixDisplay(confusion_matrix=confusion, display_labels=['False', 'True'])\n",
        "cm_display.plot(cmap=plt.cm.Blues)\n",
        "plt.show()\n"
      ],
      "metadata": {
        "colab": {
          "base_uri": "https://localhost:8080/",
          "height": 696
        },
        "id": "R6ELJCt3TnMM",
        "outputId": "c145d327-29f3-468a-ac03-22d2cccc21fc"
      },
      "execution_count": null,
      "outputs": [
        {
          "output_type": "display_data",
          "data": {
            "text/plain": [
              "<Figure size 1400x800 with 2 Axes>"
            ],
            "image/png": "[encoded data removed]"
          },
          "metadata": {}
        }
      ]
    },
    {
      "cell_type": "markdown",
      "source": [
        "#Save the model"
      ],
      "metadata": {
        "id": "j0h1OccpKUwt"
      }
    },
    {
      "cell_type": "code",
      "source": [
        "import pickle"
      ],
      "metadata": {
        "id": "XyMcGU6lKjJ9"
      },
      "execution_count": null,
      "outputs": []
    },
    {
      "cell_type": "code",
      "source": [
        "satisfaction=input(\"If you want to save this model enter 'YES'\")\n",
        "# save model to file\n",
        "if satisfaction.upper()==\"YES\":\n",
        "  pickle.dump(model_gbm, open(\"/content/drive/MyDrive/trained_model.pickle.dat\", \"wb\"))\n",
        "  print(\"Model saved\")\n",
        "else :\n",
        "  print(\"Model not saved !\")"
      ],
      "metadata": {
        "id": "vSjmBm2SKX6W"
      },
      "execution_count": null,
      "outputs": []
    }
  ],
  "metadata": {
    "colab": {
      "provenance": [],
      "gpuType": "T4"
    },
    "kernelspec": {
      "display_name": "Python 3",
      "name": "python3"
    },
    "language_info": {
      "name": "python"
    }
  },
  "nbformat": 4,
  "nbformat_minor": 0
}